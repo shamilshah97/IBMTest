{
    "nbformat_minor": 1, 
    "cells": [
        {
            "execution_count": 14, 
            "cell_type": "code", 
            "metadata": {}, 
            "outputs": [], 
            "source": "\n# Your data file was loaded into a botocore.response.StreamingBody object.\n# Please read the documentation of ibm_boto3 and pandas to learn more about your possibilities to load the data.\n# ibm_boto3 documentation: https://ibm.github.io/ibm-cos-sdk-python/\n# pandas documentation: http://pandas.pydata.org/\nstreaming_body_1 = client_54d13df14f1b444b8edc178505d310f1.get_object(Bucket='testproject-donotdelete-pr-kdadfynupbmodw', Key='TestNotebook2.py')['Body']\n# add missing __iter__ method so pandas accepts body as file-like object\nif not hasattr(streaming_body_1, \"__iter__\"): streaming_body_1.__iter__ = types.MethodType( __iter__, streaming_body_1 ) \n\n"
        }, 
        {
            "execution_count": 15, 
            "cell_type": "code", 
            "metadata": {}, 
            "outputs": [], 
            "source": "testvalue1 = 100"
        }, 
        {
            "execution_count": 16, 
            "cell_type": "code", 
            "metadata": {}, 
            "outputs": [
                {
                    "execution_count": 16, 
                    "metadata": {}, 
                    "data": {
                        "text/plain": "93"
                    }, 
                    "output_type": "execute_result"
                }
            ], 
            "source": "testvalue1 - testvalue2"
        }, 
        {
            "execution_count": 20, 
            "cell_type": "code", 
            "metadata": {}, 
            "outputs": [
                {
                    "execution_count": 20, 
                    "metadata": {}, 
                    "data": {
                        "text/plain": "5"
                    }, 
                    "output_type": "execute_result"
                }
            ], 
            "source": "2+3"
        }, 
        {
            "execution_count": 21, 
            "cell_type": "code", 
            "metadata": {}, 
            "outputs": [
                {
                    "execution_count": 21, 
                    "metadata": {}, 
                    "data": {
                        "text/html": "<div>\n<style scoped>\n    .dataframe tbody tr th:only-of-type {\n        vertical-align: middle;\n    }\n\n    .dataframe tbody tr th {\n        vertical-align: top;\n    }\n\n    .dataframe thead th {\n        text-align: right;\n    }\n</style>\n<table border=\"1\" class=\"dataframe\">\n  <thead>\n    <tr style=\"text-align: right;\">\n      <th></th>\n      <th>06/07/2018</th>\n    </tr>\n  </thead>\n  <tbody>\n    <tr>\n      <th>0</th>\n      <td>07/07/2018</td>\n    </tr>\n    <tr>\n      <th>1</th>\n      <td>08/07/2018</td>\n    </tr>\n    <tr>\n      <th>2</th>\n      <td>09/07/2018</td>\n    </tr>\n    <tr>\n      <th>3</th>\n      <td>10/07/2018</td>\n    </tr>\n    <tr>\n      <th>4</th>\n      <td>11/07/2018</td>\n    </tr>\n    <tr>\n      <th>5</th>\n      <td>12/07/2018</td>\n    </tr>\n    <tr>\n      <th>6</th>\n      <td>13/07/2018</td>\n    </tr>\n  </tbody>\n</table>\n</div>", 
                        "text/plain": "   06/07/2018\n0  07/07/2018\n1  08/07/2018\n2  09/07/2018\n3  10/07/2018\n4  11/07/2018\n5  12/07/2018\n6  13/07/2018"
                    }, 
                    "output_type": "execute_result"
                }
            ], 
            "source": "# The code was removed by DSX for sharing."
        }, 
        {
            "execution_count": null, 
            "cell_type": "code", 
            "metadata": {}, 
            "outputs": [], 
            "source": ""
        }
    ], 
    "metadata": {
        "kernelspec": {
            "display_name": "Python 3.5", 
            "name": "python3", 
            "language": "python"
        }, 
        "language_info": {
            "mimetype": "text/x-python", 
            "nbconvert_exporter": "python", 
            "version": "3.5.4", 
            "name": "python", 
            "file_extension": ".py", 
            "pygments_lexer": "ipython3", 
            "codemirror_mode": {
                "version": 3, 
                "name": "ipython"
            }
        }
    }, 
    "nbformat": 4
}